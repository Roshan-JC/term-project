{
 "cells": [
  {
   "cell_type": "code",
   "execution_count": 17,
   "metadata": {
    "collapsed": false
   },
   "outputs": [
    {
     "data": {
      "text/html": [
       "<iframe id=\"igraph\" scrolling=\"no\" style=\"border:none;\" seamless=\"seamless\" src=\"https://plot.ly/~chirutr22/26.embed\" height=\"525px\" width=\"100%\"></iframe>"
      ],
      "text/plain": [
       "<plotly.tools.PlotlyDisplay object>"
      ]
     },
     "execution_count": 17,
     "metadata": {},
     "output_type": "execute_result"
    }
   ],
   "source": [
    "import plotly.plotly as py\n",
    "import plotly.graph_objs as go\n",
    "\n",
    "Democratic_Developed = 27007\n",
    "Democratic_Developing = 9431\n",
    "Non_Democratic_Developed = 3468\n",
    "\n",
    "\n",
    "\n",
    "total = Democratic_Developed + Democratic_Developing+ Non_Democratic_Developed + 12967\n",
    "\n",
    "per1 = (Democratic_Developed/total)*100\n",
    "per2 = (Democratic_Developing/total)*100\n",
    "per3 = (Non_Democratic_Developed/total)*100\n",
    "per4 = (12967/total)*100\n",
    "\n",
    "fig = {\n",
    "  \"data\": [\n",
    "    {\n",
    "      \"values\": [per1,per2,per3,per4],\n",
    "      \"labels\": [\n",
    "        \"Democratic and Developed\",\n",
    "        \"Democratic and Developing\",\n",
    "        \"Non Democratic and Developed\",\n",
    "        \"Non Democratic and Developing\",\n",
    "         ],\n",
    "      \"domain\": {\"x\": [0, .48]},\n",
    "      \"name\": \"Participants\",\n",
    "      \"hoverinfo\":\"label+percent+name\",\n",
    "      \"hole\": .6,\n",
    "      \"type\": \"pie\"\n",
    "    }\n",
    "    ],\n",
    "  \"layout\": {\n",
    "        \"title\":\"Participants ratio\",\n",
    "        \"annotations\": [\n",
    "            {\n",
    "                \"font\": {\n",
    "                    \"size\": 20\n",
    "                },\n",
    "                \"showarrow\": False,\n",
    "                \"text\": \"52873\",\n",
    "                \"x\": 0.20,\n",
    "                \"y\": 0.5\n",
    "            }\n",
    "        ]\n",
    "    }\n",
    "}\n",
    "py.iplot(fig)"
   ]
  }
 ],
 "metadata": {
  "anaconda-cloud": {},
  "kernelspec": {
   "display_name": "Python [Root]",
   "language": "python",
   "name": "Python [Root]"
  },
  "language_info": {
   "codemirror_mode": {
    "name": "ipython",
    "version": 3
   },
   "file_extension": ".py",
   "mimetype": "text/x-python",
   "name": "python",
   "nbconvert_exporter": "python",
   "pygments_lexer": "ipython3",
   "version": "3.5.2"
  }
 },
 "nbformat": 4,
 "nbformat_minor": 0
}
