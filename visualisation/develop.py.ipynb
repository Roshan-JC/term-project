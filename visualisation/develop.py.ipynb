{
 "cells": [
  {
   "cell_type": "code",
   "execution_count": 1,
   "metadata": {
    "collapsed": true
   },
   "outputs": [],
   "source": [
    "import matplotlib.pyplot as plt\n",
    "\n",
    "pie2_labels = 'Developed - 72 countires','Devloping - 133 countries'\n",
    "pie2_sizes = []\n",
    "\n",
    "Devloped_Total = 2715\n",
    "Devloping_Total = 1893\n",
    "\n",
    "total = Devloping_Total+Devloped_Total\n",
    "\n",
    "pie2_sizes.append((Devloped_Total/total)*100)\n",
    "pie2_sizes.append((Devloping_Total/total)*100)\n",
    "\n",
    "\n",
    "\n",
    "\n",
    "colors = ['yellow', 'red']\n",
    "explode = (0.1, 0.1)  # only \"explode\" the 2nd slice (i.e. 'Hogs')\n",
    "\n",
    "\n",
    "plt.pie(pie2_sizes, explode=explode, labels=pie2_labels, colors=colors,\n",
    "        autopct='%1.1f%%', shadow=True, startangle=90)\n",
    "\n",
    "\n",
    "plt.axis('equal')\n",
    "\n",
    "plt.show()"
   ]
  }
 ],
 "metadata": {
  "anaconda-cloud": {},
  "kernelspec": {
   "display_name": "Python [Root]",
   "language": "python",
   "name": "Python [Root]"
  },
  "language_info": {
   "codemirror_mode": {
    "name": "ipython",
    "version": 3
   },
   "file_extension": ".py",
   "mimetype": "text/x-python",
   "name": "python",
   "nbconvert_exporter": "python",
   "pygments_lexer": "ipython3",
   "version": "3.5.2"
  }
 },
 "nbformat": 4,
 "nbformat_minor": 0
}
