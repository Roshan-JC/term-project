{
 "cells": [
  {
   "cell_type": "code",
   "execution_count": null,
   "metadata": {
    "collapsed": true
   },
   "outputs": [],
   "source": [
    "import matplotlib.pyplot as plt\n",
    "\n",
    "# The slices will be ordered and plotted counter-clockwise.\n",
    "pie1_labels = 'Democratic -74 countires','Non-Democratic - 134 countries'\n",
    "sizes = []\n",
    "\n",
    "Democratic_total = 3052\n",
    "Non_Democratic_total = 1556\t\n",
    "\n",
    "total = Democratic_total+Non_Democratic_total\n",
    "\n",
    "sizes.append((Democratic_total/total)*100)\n",
    "sizes.append((Non_Democratic_total/total)*100)\n",
    "\n",
    "\n",
    "\n",
    "\n",
    "colors = ['yellowgreen', 'gold']\n",
    "explode = (0.1, 0.1)  # only \"explode\" the 2nd slice (i.e. 'Hogs')\n",
    "\n",
    "plt.pie(sizes, explode=explode, labels=pie1_labels, colors=colors,\n",
    "        autopct='%1.1f%%', shadow=True, startangle=90)\n",
    "\n",
    "\n",
    "plt.axis('equal')\n",
    "\n",
    "plt.show()"
   ]
  }
 ],
 "metadata": {
  "anaconda-cloud": {},
  "kernelspec": {
   "display_name": "Python [Root]",
   "language": "python",
   "name": "Python [Root]"
  },
  "language_info": {
   "codemirror_mode": {
    "name": "ipython",
    "version": 3
   },
   "file_extension": ".py",
   "mimetype": "text/x-python",
   "name": "python",
   "nbconvert_exporter": "python",
   "pygments_lexer": "ipython3",
   "version": "3.5.2"
  }
 },
 "nbformat": 4,
 "nbformat_minor": 0
}
