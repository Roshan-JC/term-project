{
 "cells": [
  {
   "cell_type": "code",
   "execution_count": 8,
   "metadata": {
    "collapsed": false
   },
   "outputs": [
    {
     "data": {
      "text/html": [
       "<iframe id=\"igraph\" scrolling=\"no\" style=\"border:none;\" seamless=\"seamless\" src=\"https://plot.ly/~Roshanjchandru/45.embed\" height=\"525px\" width=\"100%\"></iframe>"
      ],
      "text/plain": [
       "<plotly.tools.PlotlyDisplay object>"
      ]
     },
     "execution_count": 8,
     "metadata": {},
     "output_type": "execute_result"
    }
   ],
   "source": [
    "import plotly.plotly as py\n",
    "import plotly.graph_objs as go\n",
    "\n",
    "previous_year = go.Bar(\n",
    "    x=['USA','AUSTRALIA','GREECE','CHINA','LONDON'],\n",
    "    y=[545, 417, 140, 384, 304 ],\n",
    "    name='Previous'\n",
    ")\n",
    "hosted_year = go.Bar(\n",
    "    x=['USA','AUSTRALIA','GREECE','CHINA','LONDON'],\n",
    "    y=[647, 617, 426, 599, 530],\n",
    "    name='Hosted year'\n",
    ")\n",
    "next_year = go.Bar(\n",
    "    x=['USA','AUSTRALIA','GREECE','CHINA','LONDON'],\n",
    "    y=[586, 470, 152, 375],\n",
    "    name='Next'\n",
    ")\n",
    "\n",
    "data = [previous_year,hosted_year,next_year]\n",
    "layout = go.Layout(\n",
    "    barmode='group'\n",
    ")\n",
    "\n",
    "fig = go.Figure(data=data, layout=layout)\n",
    "py.iplot(fig, filename='grouped-bar')"
   ]
  }
 ],
 "metadata": {
  "anaconda-cloud": {},
  "kernelspec": {
   "display_name": "Python [Root]",
   "language": "python",
   "name": "Python [Root]"
  },
  "language_info": {
   "codemirror_mode": {
    "name": "ipython",
    "version": 3
   },
   "file_extension": ".py",
   "mimetype": "text/x-python",
   "name": "python",
   "nbconvert_exporter": "python",
   "pygments_lexer": "ipython3",
   "version": "3.5.2"
  }
 },
 "nbformat": 4,
 "nbformat_minor": 0
}
