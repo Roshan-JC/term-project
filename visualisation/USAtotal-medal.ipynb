{
 "cells": [
  {
   "cell_type": "code",
   "execution_count": 5,
   "metadata": {
    "collapsed": false
   },
   "outputs": [
    {
     "data": {
      "text/html": [
       "<iframe id=\"igraph\" scrolling=\"no\" style=\"border:none;\" seamless=\"seamless\" src=\"https://plot.ly/~Roshanjchandru/43.embed\" height=\"525px\" width=\"100%\"></iframe>"
      ],
      "text/plain": [
       "<plotly.tools.PlotlyDisplay object>"
      ]
     },
     "execution_count": 5,
     "metadata": {},
     "output_type": "execute_result"
    }
   ],
   "source": [
    "import plotly.plotly as py\n",
    "import plotly.graph_objs as go\n",
    "\n",
    "trace1 = go.Bar(\n",
    "    x=['Athletics', 'Swimming', 'Diving','Wrestling','Boxing','others'],\n",
    "    y=[727, 520, 132, 125, 110, 811],\n",
    "    xaxis='x2',\n",
    "    yaxis='y2',\n",
    "    marker=dict(color=[\"blue\", \"orange\", \"green\",\"red\",\"purple\",\"brown\"]),\n",
    "    name='Medals',\n",
    "   \n",
    "    showlegend=False\n",
    ")\n",
    "trace2 = go.Pie(\n",
    "    labels=['Athletics', 'Swimming', 'Diving','Wrestling','Boxing', 'others'],\n",
    "    values=[727, 520, 132, 125, 110, 811],\n",
    "    domain=dict(x=[0, 0.45]),\n",
    "    text=['Athletics', 'Swimming', 'Diving','Wrestling','Boxing', 'others'],\n",
    "    \n",
    "    sort=False,\n",
    "    \n",
    ")\n",
    "data = [trace1, trace2]\n",
    "layout = go.Layout(\n",
    "    xaxis2=dict(\n",
    "        domain=[0.5, 0.95],\n",
    "        anchor='y2'\n",
    "    ),\n",
    "    yaxis2=dict(\n",
    "        domain=[0, 1],\n",
    "        anchor='x2'\n",
    "    )\n",
    ")\n",
    "fig = go.Figure(data=data, layout=layout)\n",
    "py.iplot(fig, filename='simple-inset-stream')"
   ]
  }
 ],
 "metadata": {
  "kernelspec": {
   "display_name": "Python [Root]",
   "language": "python",
   "name": "Python [Root]"
  },
  "language_info": {
   "codemirror_mode": {
    "name": "ipython",
    "version": 3
   },
   "file_extension": ".py",
   "mimetype": "text/x-python",
   "name": "python",
   "nbconvert_exporter": "python",
   "pygments_lexer": "ipython3",
   "version": "3.5.2"
  }
 },
 "nbformat": 4,
 "nbformat_minor": 0
}
