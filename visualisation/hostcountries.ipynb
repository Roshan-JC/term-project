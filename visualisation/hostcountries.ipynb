{
 "cells": [
  {
   "cell_type": "code",
   "execution_count": 1,
   "metadata": {
    "collapsed": true
   },
   "outputs": [],
   "source": [
    "import pandas as pd\n",
    "import numpy as np\n",
    "import matplotlib.pyplot as plt\n",
    "import plotly.plotly as py\n",
    "import plotly.graph_objs  as go"
   ]
  },
  {
   "cell_type": "code",
   "execution_count": 2,
   "metadata": {
    "collapsed": false
   },
   "outputs": [],
   "source": [
    "title = 'Performance of countries at their homes'\n",
    "\n",
    "labels = [ 'US','Australia', 'Greece','China', 'GBR']\n",
    "\n",
    "mode_size = [8, 8, 8, 8 ,8]\n",
    "\n",
    "line_size = [4, 4, 4, 4, 4]\n",
    "\n",
    "colors = ['rgba(67,67,67,1)', 'rgba(255,166,0)', 'rgba(49,130,189, 1)', 'rgba(189,189,189,1)','rgba(0,116,217)']\n",
    "\n",
    "\n",
    "df1 = pd.read_csv(\"/home/cloudera/data/Australia/aus.csv\",header = None)\n",
    "df2 = pd.read_csv(\"/home/cloudera/data/US/US.csv\",header = None)\n",
    "df3 = pd.read_csv(\"/home/cloudera/data/Greece/greece.csv\",header = None)\n",
    "df4 = pd.read_csv(\"/home/cloudera/data/GBR/GBR.csv\",header = None)\n",
    "df5 = pd.read_csv(\"/home/cloudera/data/China/china.csv\",header = None)\n",
    "\n",
    "d1 = df1[1].values.tolist()\n",
    "d2 = df2[1].values.tolist()\n",
    "d3 = df3[1].values.tolist()\n",
    "d4 = df4[1].values.tolist()\n",
    "d5 = df5[1].values.tolist()\n",
    "\n",
    "\n",
    "\n",
    "x_data = [\n",
    "    [1996,2000,2004,2008,2012],\n",
    "    [1996,2000,2004,2008,2012],\n",
    "    [1996,2000,2004,2008,2012],\n",
    "    [1996,2000,2004,2008,2012],\n",
    "    [1996,2000,2004,2008,2012]\n",
    "]\n",
    "d1 = d1[::-1]\n",
    "d2 = d2[::-1]\n",
    "d3 = d3[::-1]\n",
    "d4 = d4[::-1]\n",
    "d5 = d5[::-1]\n",
    "\n",
    "\n",
    "\n"
   ]
  },
  {
   "cell_type": "code",
   "execution_count": 4,
   "metadata": {
    "collapsed": false
   },
   "outputs": [
    {
     "data": {
      "text/html": [
       "<iframe id=\"igraph\" scrolling=\"no\" style=\"border:none;\" seamless=\"seamless\" src=\"https://plot.ly/~chirutr22/2.embed\" height=\"525px\" width=\"100%\"></iframe>"
      ],
      "text/plain": [
       "<plotly.tools.PlotlyDisplay object>"
      ]
     },
     "execution_count": 4,
     "metadata": {},
     "output_type": "execute_result"
    }
   ],
   "source": [
    "\n",
    "y_data = [d2] + [d1] +[d3] +[d5] +[d4]\n",
    "\n",
    "\n",
    "traces = []\n",
    "\n",
    "for i in range(0,5):\n",
    "    traces.append(go.Scatter(\n",
    "        x= x_data[i],\n",
    "        y=y_data[i],\n",
    "        mode = 'lines',\n",
    "        line = dict(color = colors[i],width = line_size[i]),\n",
    "        connectgaps = True,))\n",
    "    traces.append(go.Scatter(\n",
    "        x=[x_data[i][0], x_data[i][4]],\n",
    "        y=[y_data[i][0], y_data[i][4]],\n",
    "        mode='markers',\n",
    "        marker=dict(color=colors[i], size=mode_size[i])\n",
    "    ))\n",
    "\n",
    "layout = go.Layout(\n",
    "    xaxis=dict(\n",
    "        showline=True,\n",
    "        showgrid=False,\n",
    "        showticklabels=True,\n",
    "        linecolor='rgb(204, 204, 204)',\n",
    "        linewidth=2,\n",
    "        autotick=False,\n",
    "        ticks='outside',\n",
    "        tickcolor='rgb(204, 204, 204)',\n",
    "        tickwidth=2,\n",
    "        ticklen=5,\n",
    "        tickfont=dict(\n",
    "            family='Arial',\n",
    "            size=12,\n",
    "            color='rgb(82, 82, 82)',\n",
    "        ),\n",
    "    ),\n",
    "    yaxis=dict(\n",
    "        showgrid=False,\n",
    "        zeroline=False,\n",
    "        showline=False,\n",
    "        showticklabels=False,\n",
    "    ),\n",
    "    autosize=False,\n",
    "    margin=dict(\n",
    "        autoexpand=False,\n",
    "        l=100,\n",
    "        r=20,\n",
    "        t=110,\n",
    "    ),\n",
    "    showlegend=False,\n",
    ")\n",
    "\n",
    "annotations = []\n",
    "\n",
    "# Adding labels\n",
    "for y_trace, label, color in zip(y_data, labels, colors):\n",
    "    # labeling the left_side of the plot\n",
    "    annotations.append(dict(xref='paper', x=0.05, y=y_trace[0],\n",
    "                                  xanchor='right', yanchor='middle',\n",
    "                                  text=label + ' {}'.format(y_trace[0]),\n",
    "                                  font=dict(family='Arial',\n",
    "                                            size=16,\n",
    "                                            color=colors,),\n",
    "                                  showarrow=False))\n",
    "    # labeling the right_side of the plot\n",
    "    annotations.append(dict(xref='paper', x=0.95, y=y_trace[4],\n",
    "                                  xanchor='left', yanchor='middle',\n",
    "                                  text='{}'.format(y_trace[4]),\n",
    "                                  font=dict(family='Arial',\n",
    "                                            size=16,\n",
    "                                            color=colors,),\n",
    "                                  showarrow=False))\n",
    "# Title\n",
    "annotations.append(dict(xref='paper', yref='paper', x=0.0, y=1.05,\n",
    "                              xanchor='left', yanchor='bottom',\n",
    "                              text='Performance of countries at their homes',\n",
    "                              font=dict(family='Arial',\n",
    "                                        size=30,\n",
    "                                        color='rgb(37,37,37)'),\n",
    "                              showarrow=False))\n",
    "\n",
    "layout['annotations'] = annotations\n",
    "\n",
    "fig = go.Figure(data=traces, layout=layout)\n",
    "py.iplot(fig, filename='news-source')\n",
    "\n",
    "\n",
    "\n",
    "\n"
   ]
  },
  {
   "cell_type": "code",
   "execution_count": null,
   "metadata": {
    "collapsed": true
   },
   "outputs": [],
   "source": []
  }
 ],
 "metadata": {
  "anaconda-cloud": {},
  "kernelspec": {
   "display_name": "Python [Root]",
   "language": "python",
   "name": "Python [Root]"
  },
  "language_info": {
   "codemirror_mode": {
    "name": "ipython",
    "version": 3
   },
   "file_extension": ".py",
   "mimetype": "text/x-python",
   "name": "python",
   "nbconvert_exporter": "python",
   "pygments_lexer": "ipython3",
   "version": "3.5.2"
  }
 },
 "nbformat": 4,
 "nbformat_minor": 0
}
