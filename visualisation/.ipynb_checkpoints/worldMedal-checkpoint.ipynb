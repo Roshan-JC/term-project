{
 "cells": [
  {
   "cell_type": "code",
   "execution_count": null,
   "metadata": {
    "collapsed": false
   },
   "outputs": [],
   "source": [
    "import plotly.plotly as py\n",
    "import pandas as pd\n",
    "\n",
    "df = pd.read_csv('/home/cloudera/data/country/countries.csv')\n",
    "df.head()\n",
    "\n",
    "df['text'] = df['Country'] + '<br>TotalMedals ' + (df['Total']/1e6).astype(str)+' numbers'\n",
    "limits = [(0,2),(3,10),(11,20),(21,50),(50,300)]\n",
    "colors = [\"rgb(0,116,217)\",\"rgb(255,65,54)\",\"rgb(133,20,75)\",\"rgb(255,133,27)\",\"green\"]\n",
    "Cnames = []\n",
    "scale = 1\n",
    "\n",
    "for i in range(len(limits)):\n",
    "    lim = limits[i]\n",
    "    df_sub = df[lim[0]:lim[1]]\n",
    "    Cname = dict(\n",
    "        type = 'scattergeo',\n",
    "        locationmode = 'IS0-3',\n",
    "        lon = df_sub['lon'],\n",
    "        lat = df_sub['lat'],\n",
    "        text = df_sub['text'],\n",
    "        marker = dict(\n",
    "            size = df_sub['Total']/scale,\n",
    "            color = colors[i],\n",
    "            line = dict(width=0.5, color='rgb(40,40,40)'),\n",
    "            sizemode = 'area'\n",
    "        ),\n",
    "        name = '{0} - {1}'.format(lim[0],lim[1]) )\n",
    "    Cnames.append(Cname)\n",
    "    \n",
    "    \n",
    "layout = dict(\n",
    "        title = 'Total number of medals',\n",
    "        showlegend = True,\n",
    "        geo = dict(\n",
    "            scope='World',\n",
    "            projection=dict( type='Distance Preserving' ),\n",
    "            showland = True,\n",
    "            landcolor = 'rgb(217, 217, 217)',\n",
    "            subunitwidth=1,\n",
    "            countrywidth=1,\n",
    "            subunitcolor=\"rgb(255, 255, 255)\",\n",
    "            countrycolor=\"rgb(255, 255, 255)\"\n",
    "        ),\n",
    "    )\n",
    "\n",
    "fig = dict( data=Cnames, layout=layout )\n",
    "py.iplot( fig, validate=False, filename='totalolymedals' )"
   ]
  }
 ],
 "metadata": {
  "anaconda-cloud": {},
  "kernelspec": {
   "display_name": "Python [Root]",
   "language": "python",
   "name": "Python [Root]"
  },
  "language_info": {
   "codemirror_mode": {
    "name": "ipython",
    "version": 3
   },
   "file_extension": ".py",
   "mimetype": "text/x-python",
   "name": "python",
   "nbconvert_exporter": "python",
   "pygments_lexer": "ipython3",
   "version": "3.5.2"
  }
 },
 "nbformat": 4,
 "nbformat_minor": 0
}
