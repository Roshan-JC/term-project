{
 "cells": [
  {
   "cell_type": "code",
   "execution_count": 1,
   "metadata": {
    "collapsed": true
   },
   "outputs": [],
   "source": [
    "import plotly.plotly as py\n",
    "import plotly.graph_objs as go\n",
    "import pandas as pd\n",
    "import numpy as np"
   ]
  },
  {
   "cell_type": "code",
   "execution_count": 5,
   "metadata": {
    "collapsed": false
   },
   "outputs": [],
   "source": [
    "infile = open(\"success.csv\",\"r\")\n",
    "header = infile.readline()\n",
    "name_list1 = []\n",
    "value_list1 = []\n",
    "name_list2 = []\n",
    "value_list2 = []\n",
    "name_list3 = []\n",
    "value_list3 = []\n",
    "name_list4 = []\n",
    "value_list4 = []\n",
    "message = None\n",
    "\n",
    "outfile1 = open(\"su1.csv\",\"w\")\n",
    "outfile1.write(header)\n",
    "\n",
    "outfile2 = open(\"su2.csv\",\"w\")\n",
    "outfile2.write(header)\n",
    "\n",
    "outfile3 = open(\"su3.csv\",\"w\")\n",
    "outfile3.write(header)\n",
    "\n",
    "outfile4 = open(\"su4.csv\",\"w\")\n",
    "outfile4.write(header)\n",
    "\n",
    "for record in infile:\n",
    "    data_split = record.split(',')\n",
    "    value = int(data_split[1])\n",
    "    if value > 20:\n",
    "        message = data_split[0] + ',' + str(value)\n",
    "        outfile1.write(message)\n",
    "        outfile1.write(\"\\n\")\n",
    "    elif value > 15 and  value <= 20:\n",
    "        name_list2.append(data_split[0])\n",
    "        value_list2.append(value)\n",
    "        message = data_split[0] + ',' + str(value)\n",
    "        outfile2.write(message)\n",
    "        outfile2.write(\"\\n\")\n",
    "    elif value > 10 and value <= 15:\n",
    "        name_list3.append(data_split[0])\n",
    "        value_list3.append(value)\n",
    "        message = data_split[0] + ',' + str(value)\n",
    "        outfile3.write(message)\n",
    "        outfile3.write(\"\\n\")\n",
    "    elif value >5 and value <= 10:\n",
    "        name_list4.append(data_split[0])\n",
    "        value_list4.append(value)\n",
    "        message = data_split[0] + ',' + str(value)\n",
    "        outfile4.write(message)\n",
    "        outfile4.write(\"\\n\")\n"
   ]
  },
  {
   "cell_type": "code",
   "execution_count": 6,
   "metadata": {
    "collapsed": false
   },
   "outputs": [
    {
     "name": "stderr",
     "output_type": "stream",
     "text": [
      "/home/cloudera/anaconda3/lib/python3.5/site-packages/ipykernel/__main__.py:6: FutureWarning:\n",
      "\n",
      "sort(columns=....) is deprecated, use sort_values(by=.....)\n",
      "\n",
      "/home/cloudera/anaconda3/lib/python3.5/site-packages/ipykernel/__main__.py:7: FutureWarning:\n",
      "\n",
      "sort(columns=....) is deprecated, use sort_values(by=.....)\n",
      "\n",
      "/home/cloudera/anaconda3/lib/python3.5/site-packages/ipykernel/__main__.py:8: FutureWarning:\n",
      "\n",
      "sort(columns=....) is deprecated, use sort_values(by=.....)\n",
      "\n",
      "/home/cloudera/anaconda3/lib/python3.5/site-packages/ipykernel/__main__.py:9: FutureWarning:\n",
      "\n",
      "sort(columns=....) is deprecated, use sort_values(by=.....)\n",
      "\n"
     ]
    },
    {
     "data": {
      "text/html": [
       "<iframe id=\"igraph\" scrolling=\"no\" style=\"border:none;\" seamless=\"seamless\" src=\"https://plot.ly/~chirutr22/12.embed\" height=\"525px\" width=\"100%\"></iframe>"
      ],
      "text/plain": [
       "<plotly.tools.PlotlyDisplay object>"
      ]
     },
     "execution_count": 6,
     "metadata": {},
     "output_type": "execute_result"
    }
   ],
   "source": [
    "df1 = pd.read_csv('su1.csv')\n",
    "df2 = pd.read_csv('su2.csv')\n",
    "df3 = pd.read_csv('su3.csv')\n",
    "df4 = pd.read_csv('su4.csv')\n",
    "\n",
    "df1.sort(['values'], ascending=[0], inplace=True)\n",
    "df2.sort(['values'], ascending=[0], inplace=True)\n",
    "df3.sort(['values'], ascending=[0], inplace=True)\n",
    "df4.sort(['values'], ascending=[0], inplace=True)\n",
    "\n",
    "\n",
    "    \n",
    "trace1 = go.Bar(\n",
    "                  x = df1['Country'], y = df1['values'],\n",
    "                  name='sucess in %',\n",
    "                \n",
    "                  )\n",
    "trace2 = go.Bar(\n",
    "                  x = df2['Country'], y = df2['values'],\n",
    "                  name='sucess in %',\n",
    "                \n",
    "                  )\n",
    "trace3 = go.Bar(\n",
    "                  x = df3['Country'], y = df3['values'],\n",
    "                  name='sucess in %',\n",
    "                \n",
    "                  )\n",
    "trace4 = go.Bar(\n",
    "                  x = df4['Country'], y = df4['values'],\n",
    "                  name='sucess in %',\n",
    "                \n",
    "                  )\n",
    "\n",
    "layout = go.Layout(\n",
    "                  title='Success',\n",
    "                  plot_bgcolor='rgb(230, 230,230)',\n",
    "                  showlegend=True\n",
    "                  )\n",
    "\n",
    "fig = go.Figure(data=[trace1,trace2,trace3,trace4], layout=layout)\n",
    "\n",
    "py.iplot(fig, filename='sucess ratio ')\n",
    "    "
   ]
  },
  {
   "cell_type": "code",
   "execution_count": null,
   "metadata": {
    "collapsed": true
   },
   "outputs": [],
   "source": []
  },
  {
   "cell_type": "code",
   "execution_count": null,
   "metadata": {
    "collapsed": true
   },
   "outputs": [],
   "source": []
  }
 ],
 "metadata": {
  "anaconda-cloud": {},
  "kernelspec": {
   "display_name": "Python [Root]",
   "language": "python",
   "name": "Python [Root]"
  },
  "language_info": {
   "codemirror_mode": {
    "name": "ipython",
    "version": 3
   },
   "file_extension": ".py",
   "mimetype": "text/x-python",
   "name": "python",
   "nbconvert_exporter": "python",
   "pygments_lexer": "ipython3",
   "version": "3.5.2"
  }
 },
 "nbformat": 4,
 "nbformat_minor": 0
}
