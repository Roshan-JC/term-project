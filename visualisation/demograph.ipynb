{
 "cells": [
  {
   "cell_type": "code",
   "execution_count": 1,
   "metadata": {
    "collapsed": false
   },
   "outputs": [
    {
     "data": {
      "text/html": [
       "<iframe id=\"igraph\" scrolling=\"no\" style=\"border:none;\" seamless=\"seamless\" src=\"https://plot.ly/~chirutr22/10.embed\" height=\"525px\" width=\"100%\"></iframe>"
      ],
      "text/plain": [
       "<plotly.tools.PlotlyDisplay object>"
      ]
     },
     "execution_count": 1,
     "metadata": {},
     "output_type": "execute_result"
    }
   ],
   "source": [
    "import plotly.plotly as py\n",
    "import plotly.graph_objs as go\n",
    "\n",
    "trace1 = go.Bar(\n",
    "    x=['Democratic and Developed'],\n",
    "    y=[2475],\n",
    "    name='37 countries'\n",
    ")\n",
    "trace2 = go.Bar(\n",
    "    x=['Democratic and Developing'],\n",
    "    y=[577],\n",
    "    name='37 countries'\n",
    ")\n",
    "trace3 = go.Bar(\n",
    "    x=['Non-Democratic and Developed'],\n",
    "    y=[240],\n",
    "    name='35 countries'\n",
    ")\n",
    "trace4 = go.Bar(\n",
    "    x=['Non-Democratic and Developing'],\n",
    "    y=[1316],\n",
    "    name='96 countries'\n",
    ")\n",
    "\n",
    "data = [trace1, trace4,trace2,trace3]\n",
    "layout = go.Layout(\n",
    "         title = 'Performance of countries based on their Governance and Economy',\n",
    "    barmode='group'\n",
    ")\n",
    "\n",
    "fig = go.Figure(data=data, layout=layout)\n",
    "py.iplot(fig, filename='grouped-bar')"
   ]
  }
 ],
 "metadata": {
  "anaconda-cloud": {},
  "kernelspec": {
   "display_name": "Python [Root]",
   "language": "python",
   "name": "Python [Root]"
  },
  "language_info": {
   "codemirror_mode": {
    "name": "ipython",
    "version": 3
   },
   "file_extension": ".py",
   "mimetype": "text/x-python",
   "name": "python",
   "nbconvert_exporter": "python",
   "pygments_lexer": "ipython3",
   "version": "3.5.2"
  }
 },
 "nbformat": 4,
 "nbformat_minor": 0
}
